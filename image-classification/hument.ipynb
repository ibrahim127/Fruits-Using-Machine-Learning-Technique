{
 "cells": [
  {
   "cell_type": "code",
   "execution_count": 1,
   "metadata": {},
   "outputs": [],
   "source": [
    "import cv2\n",
    "import numpy as np\n",
    " \n",
    "def nothing(x):\n",
    "    pass\n",
    " \n",
    "# Create a black image, a window\n",
    "img = np.zeros((512,512,3), np.uint8)\n",
    "cv2.namedWindow('image',cv2.WINDOW_NORMAL)\n",
    " \n",
    "# create trackbars for color change\n",
    "cv2.createTrackbar('H','image',0,180,nothing)\n",
    "cv2.createTrackbar('S','image',0,255,nothing)\n",
    "cv2.createTrackbar('I','image',0,255,nothing)\n",
    " \n",
    "while(True):\n",
    "    cv2.imshow('image',img)\n",
    "    if cv2.waitKey(1) & 0xFF == ord('q'):\n",
    "        break\n",
    " \n",
    "    # get current positions of four trackbars\n",
    "    r = cv2.getTrackbarPos('H','image')\n",
    "    g = cv2.getTrackbarPos('S','image')\n",
    "    b = cv2.getTrackbarPos('I','image')\n",
    " \n",
    "    img[:,:] = [r,g,b]\n",
    "    img = cv2.cvtColor(img, cv2.COLOR_HSV2BGR)\n",
    " \n",
    "cv2.destroyAllWindows()"
   ]
  },
  {
   "cell_type": "code",
   "execution_count": null,
   "metadata": {},
   "outputs": [],
   "source": []
  }
 ],
 "metadata": {
  "kernelspec": {
   "display_name": "Python 3",
   "language": "python",
   "name": "python3"
  },
  "language_info": {
   "codemirror_mode": {
    "name": "ipython",
    "version": 3
   },
   "file_extension": ".py",
   "mimetype": "text/x-python",
   "name": "python",
   "nbconvert_exporter": "python",
   "pygments_lexer": "ipython3",
   "version": "3.7.3"
  }
 },
 "nbformat": 4,
 "nbformat_minor": 2
}
